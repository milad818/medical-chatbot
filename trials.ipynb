{
 "cells": [
  {
   "cell_type": "code",
   "execution_count": 3,
   "metadata": {},
   "outputs": [
    {
     "name": "stderr",
     "output_type": "stream",
     "text": [
      "c:\\Users\\ASUSK5~1\\miniconda3\\envs\\medchatbot\\lib\\site-packages\\pinecone\\data\\index.py:1: TqdmWarning: IProgress not found. Please update jupyter and ipywidgets. See https://ipywidgets.readthedocs.io/en/stable/user_install.html\n",
      "  from tqdm.autonotebook import tqdm\n"
     ]
    }
   ],
   "source": [
    "# import the necessary libraries\n",
    "import os\n",
    "from langchain import PromptTemplate\n",
    "from langchain.chains import RetrievalQA\n",
    "from langchain.embeddings import HuggingFaceEmbeddings\n",
    "from langchain.vectorstores import Pinecone\n",
    "import pinecone\n",
    "from langchain.document_loaders import PyPDFLoader, PyMuPDFLoader, DirectoryLoader\n",
    "from langchain.text_splitter import RecursiveCharacterTextSplitter\n",
    "from langchain.prompts import PromptTemplate\n",
    "from langchain.llms import CTransformers"
   ]
  },
  {
   "cell_type": "code",
   "execution_count": 14,
   "metadata": {},
   "outputs": [],
   "source": [
    "# enter pinecone api key\n",
    "PINECONE_API_KEY = \"ADD YOUR PINECONE API KEY\"\n",
    "os.environ[\"PINECONE_API_KEY\"] = PINECONE_API_KEY"
   ]
  },
  {
   "cell_type": "code",
   "execution_count": 13,
   "metadata": {},
   "outputs": [],
   "source": [
    "# Initialize Pinecone client\n",
    "pc = pinecone.Pinecone()\n",
    "\n",
    "# list existing indexes\n",
    "existing_indexes = [index_info[\"name\"] for index_info in pc.list_indexes()]\n",
    "# existing_indexes"
   ]
  },
  {
   "cell_type": "code",
   "execution_count": 6,
   "metadata": {},
   "outputs": [
    {
     "name": "stdout",
     "output_type": "stream",
     "text": [
      "Index medical-chatbot already exists!\n"
     ]
    }
   ],
   "source": [
    "# declare pinecone index name\n",
    "mcbot_idx_name = \"medical-chatbot\"\n",
    "\n",
    "cloud = os.getenv(\"PINECONE_CLOUD\", \"aws\")\n",
    "region = os.getenv(\"PINECONE_REGION\", \"us-east-1\")\n",
    "\n",
    "spec = pinecone.ServerlessSpec(cloud=cloud, region=region)\n",
    "\n",
    "# check whether the index already exists\n",
    "if mcbot_idx_name not in existing_indexes:\n",
    "    # create index\n",
    "    pc.create_index(name=mcbot_idx_name, dimension=1536, metric=\"cosine\", spec=spec)\n",
    "\n",
    "    while not pc.describe_index(mcbot_idx_name).status[\"ready\"]:\n",
    "        # wait until index is ready\n",
    "        time.sleep(1)\n",
    "    \n",
    "    print(f\"Index {mcbot_idx_name} has been successfully created.\")\n",
    "else:\n",
    "    print(f\"Index {mcbot_idx_name} already exists!\")\n",
    "\n",
    "# connect to the index\n",
    "index = pc.Index(mcbot_idx_name)"
   ]
  },
  {
   "cell_type": "code",
   "execution_count": 7,
   "metadata": {},
   "outputs": [],
   "source": [
    "# load data from the pdf file\n",
    "def load_pdf(data_directory):\n",
    "    loader = DirectoryLoader(data_directory,\n",
    "                             glob=\"*.pdf\",\n",
    "                             loader_cls=PyPDFLoader)\n",
    "\n",
    "    documents = loader.load()\n",
    "\n",
    "    return documents"
   ]
  },
  {
   "cell_type": "code",
   "execution_count": 8,
   "metadata": {},
   "outputs": [],
   "source": [
    "# read data\n",
    "data_directory = \"./data\"\n",
    "documents = load_pdf(data_directory)\n",
    "# print(documents)"
   ]
  },
  {
   "cell_type": "code",
   "execution_count": 10,
   "metadata": {},
   "outputs": [],
   "source": [
    "# create text splitter\n",
    "text_splitter = RecursiveCharacterTextSplitter(chunk_size=1000, chunk_overlap=20)"
   ]
  },
  {
   "cell_type": "code",
   "execution_count": 12,
   "metadata": {},
   "outputs": [],
   "source": [
    "# split documents\n",
    "text_chunks = text_splitter.split_documents(documents)"
   ]
  },
  {
   "cell_type": "code",
   "execution_count": null,
   "metadata": {},
   "outputs": [],
   "source": []
  }
 ],
 "metadata": {
  "kernelspec": {
   "display_name": "medchatbot",
   "language": "python",
   "name": "python3"
  },
  "language_info": {
   "codemirror_mode": {
    "name": "ipython",
    "version": 3
   },
   "file_extension": ".py",
   "mimetype": "text/x-python",
   "name": "python",
   "nbconvert_exporter": "python",
   "pygments_lexer": "ipython3",
   "version": "3.8.20"
  }
 },
 "nbformat": 4,
 "nbformat_minor": 2
}
