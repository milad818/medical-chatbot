{
 "cells": [
  {
   "cell_type": "code",
   "execution_count": 1,
   "metadata": {},
   "outputs": [
    {
     "name": "stderr",
     "output_type": "stream",
     "text": [
      "c:\\Users\\ASUSK5~1\\miniconda3\\envs\\medchatbot\\lib\\site-packages\\pinecone\\data\\index.py:1: TqdmWarning: IProgress not found. Please update jupyter and ipywidgets. See https://ipywidgets.readthedocs.io/en/stable/user_install.html\n",
      "  from tqdm.autonotebook import tqdm\n"
     ]
    }
   ],
   "source": [
    "# import the necessary libraries\n",
    "import os\n",
    "from langchain import PromptTemplate\n",
    "from langchain.chains import RetrievalQA\n",
    "from langchain.embeddings import HuggingFaceEmbeddings\n",
    "from langchain.vectorstores import Pinecone\n",
    "import pinecone\n",
    "from langchain.document_loaders import PyPDFLoader, PyMuPDFLoader, DirectoryLoader\n",
    "from langchain.text_splitter import RecursiveCharacterTextSplitter\n",
    "from langchain.prompts import PromptTemplate\n",
    "from langchain.llms import CTransformers"
   ]
  },
  {
   "cell_type": "code",
   "execution_count": null,
   "metadata": {},
   "outputs": [],
   "source": [
    "# enter pinecone api key\n",
    "PINECONE_API_KEY = \"ADD YOUR PINECONE API KEY HERE\"\n",
    "os.environ[\"PINECONE_API_KEY\"] = PINECONE_API_KEY"
   ]
  },
  {
   "cell_type": "code",
   "execution_count": 3,
   "metadata": {},
   "outputs": [],
   "source": [
    "# Initialize Pinecone client\n",
    "pc = pinecone.Pinecone()\n",
    "\n",
    "# list existing indexes\n",
    "existing_indexes = [index_info[\"name\"] for index_info in pc.list_indexes()]\n",
    "# existing_indexes"
   ]
  },
  {
   "cell_type": "code",
   "execution_count": 6,
   "metadata": {},
   "outputs": [
    {
     "name": "stdout",
     "output_type": "stream",
     "text": [
      "Index medical-chatbot already exists!\n"
     ]
    }
   ],
   "source": [
    "# declare pinecone index name\n",
    "mcbot_idx_name = \"medical-chatbot\"\n",
    "\n",
    "cloud = os.getenv(\"PINECONE_CLOUD\", \"aws\")\n",
    "region = os.getenv(\"PINECONE_REGION\", \"us-east-1\")\n",
    "\n",
    "spec = pinecone.ServerlessSpec(cloud=cloud, region=region)\n",
    "\n",
    "# check whether the index already exists\n",
    "if mcbot_idx_name not in existing_indexes:\n",
    "    # create index\n",
    "    # dimenstion is set based the embedding model and the dimension of its vectors\n",
    "    pc.create_index(name=mcbot_idx_name, dimension=384, metric=\"cosine\", spec=spec)\n",
    "\n",
    "    while not pc.describe_index(mcbot_idx_name).status[\"ready\"]:\n",
    "        # wait until index is ready\n",
    "        time.sleep(1)\n",
    "    \n",
    "    print(f\"Index {mcbot_idx_name} has been successfully created.\")\n",
    "else:\n",
    "    print(f\"Index {mcbot_idx_name} already exists!\")\n",
    "\n",
    "# connect to the index\n",
    "index = pc.Index(mcbot_idx_name)"
   ]
  },
  {
   "cell_type": "code",
   "execution_count": 7,
   "metadata": {},
   "outputs": [],
   "source": [
    "# load data from the pdf file\n",
    "def load_pdf(data_directory):\n",
    "    loader = DirectoryLoader(data_directory,\n",
    "                             glob=\"*.pdf\",\n",
    "                             loader_cls=PyPDFLoader)\n",
    "\n",
    "    documents = loader.load()\n",
    "\n",
    "    return documents"
   ]
  },
  {
   "cell_type": "code",
   "execution_count": 8,
   "metadata": {},
   "outputs": [],
   "source": [
    "# read data\n",
    "data_directory = \"./data\"\n",
    "documents = load_pdf(data_directory)\n",
    "# print(documents)"
   ]
  },
  {
   "cell_type": "code",
   "execution_count": 9,
   "metadata": {},
   "outputs": [],
   "source": [
    "# create text splitter\n",
    "# text_splitter = RecursiveCharacterTextSplitter(chunk_size=1000, chunk_overlap=20)"
   ]
  },
  {
   "cell_type": "code",
   "execution_count": 10,
   "metadata": {},
   "outputs": [],
   "source": [
    "# split documents\n",
    "# text_chunks = text_splitter.split_documents(documents)"
   ]
  },
  {
   "cell_type": "markdown",
   "metadata": {},
   "source": [
    "Or you can simply declare a function performing as text splitter integrating all in one."
   ]
  },
  {
   "cell_type": "code",
   "execution_count": null,
   "metadata": {},
   "outputs": [],
   "source": [
    "# build a function to split text\n",
    "def text_splitter(documents):\n",
    "    rec_splitter = RecursiveCharacterTextSplitter(chunk_size=1000,\n",
    "                                                chunk_overlap=20)\n",
    "    chunks = rec_splitter.split_documents(documents)\n",
    "\n",
    "    return chunks"
   ]
  },
  {
   "cell_type": "code",
   "execution_count": 12,
   "metadata": {},
   "outputs": [
    {
     "data": {
      "text/plain": [
       "3006"
      ]
     },
     "execution_count": 12,
     "metadata": {},
     "output_type": "execute_result"
    }
   ],
   "source": [
    "# generate text chunks through text_splitter()\n",
    "text_chunks = text_splitter(documents)\n",
    "len(text_chunks)"
   ]
  },
  {
   "cell_type": "code",
   "execution_count": 13,
   "metadata": {},
   "outputs": [],
   "source": [
    "# build a function to download model\n",
    "def download_huggingface_embedding(model_name):\n",
    "    embedding = HuggingFaceEmbeddings(model_name=model_name)\n",
    "    return embedding"
   ]
  },
  {
   "cell_type": "code",
   "execution_count": 14,
   "metadata": {},
   "outputs": [
    {
     "name": "stdout",
     "output_type": "stream",
     "text": [
      "c:\\Users\\ASUSK5~1\\miniconda3\\envs\\medchatbot\\python.exe\n"
     ]
    }
   ],
   "source": [
    "import sys\n",
    "print(sys.executable)"
   ]
  },
  {
   "cell_type": "code",
   "execution_count": 15,
   "metadata": {},
   "outputs": [
    {
     "name": "stderr",
     "output_type": "stream",
     "text": [
      "C:\\Users\\ASUS K513EQ\\AppData\\Local\\Temp\\ipykernel_17108\\510078240.py:3: LangChainDeprecationWarning: The class `HuggingFaceEmbeddings` was deprecated in LangChain 0.2.2 and will be removed in 1.0. An updated version of the class exists in the langchain-huggingface package and should be used instead. To use it run `pip install -U langchain-huggingface` and import as `from langchain_huggingface import HuggingFaceEmbeddings`.\n",
      "  embedding = HuggingFaceEmbeddings(model_name=model_name)\n"
     ]
    }
   ],
   "source": [
    "# download embeddings\n",
    "model_name=\"sentence-transformers/all-MiniLM-L6-v2\"\n",
    "embedding = download_huggingface_embedding(model_name)"
   ]
  },
  {
   "cell_type": "markdown",
   "metadata": {},
   "source": [
    "Now that we have the embedding model landed on our system, nobody would mind making a query in order to check whether it is working fine or not."
   ]
  },
  {
   "cell_type": "code",
   "execution_count": 16,
   "metadata": {},
   "outputs": [
    {
     "data": {
      "text/plain": [
       "[-0.06105484440922737,\n",
       " -0.010957086458802223,\n",
       " -0.06388892233371735,\n",
       " -0.012413165532052517,\n",
       " -0.06348859518766403,\n",
       " -0.018615080043673515,\n",
       " 0.1121727004647255,\n",
       " 0.01997370272874832,\n",
       " -0.09354047477245331,\n",
       " -0.06091571971774101,\n",
       " -0.030002398416399956,\n",
       " -0.01798173598945141,\n",
       " 0.01098799891769886,\n",
       " -0.07747738808393478,\n",
       " -0.08996541798114777,\n",
       " 0.06906592100858688,\n",
       " 0.016005441546440125,\n",
       " 0.039849694818258286,\n",
       " 0.010348579846322536,\n",
       " 0.016146862879395485,\n",
       " 0.005521825514733791,\n",
       " -0.02962055429816246,\n",
       " 0.049603309482336044,\n",
       " 0.09224578738212585,\n",
       " -0.0312267504632473,\n",
       " 0.014108521863818169,\n",
       " 0.04687662795186043,\n",
       " 0.09415562450885773,\n",
       " -0.0038906997069716454,\n",
       " -0.07334808260202408,\n",
       " 0.07317619770765305,\n",
       " 0.17730604112148285,\n",
       " 0.0424121655523777,\n",
       " -0.0627225786447525,\n",
       " -0.007511781062930822,\n",
       " 0.024614213034510612,\n",
       " -0.005599008407443762,\n",
       " -0.09019031375646591,\n",
       " 0.015178652480244637,\n",
       " -0.028609750792384148,\n",
       " -0.02013222686946392,\n",
       " 0.028419144451618195,\n",
       " -0.04579474404454231,\n",
       " -0.0010433272691443563,\n",
       " 0.048976171761751175,\n",
       " 0.07039380818605423,\n",
       " 0.010283534415066242,\n",
       " 0.04854981228709221,\n",
       " 0.03460744395852089,\n",
       " 0.08835256099700928,\n",
       " 0.007045373786240816,\n",
       " -0.05154671147465706,\n",
       " -0.0033428603783249855,\n",
       " -0.0006802386487834156,\n",
       " -0.018567988649010658,\n",
       " 0.07009952515363693,\n",
       " -0.020181970670819283,\n",
       " -0.029682155698537827,\n",
       " 0.030223576352000237,\n",
       " -0.019669808447360992,\n",
       " -0.030748842284083366,\n",
       " 0.05039643868803978,\n",
       " -0.03994308039546013,\n",
       " 0.09956394135951996,\n",
       " 0.059648677706718445,\n",
       " 0.02929973416030407,\n",
       " 0.06080055981874466,\n",
       " 0.0588955320417881,\n",
       " -0.08463384956121445,\n",
       " 0.05691303312778473,\n",
       " 0.06305035203695297,\n",
       " 0.007376143708825111,\n",
       " 0.022384751588106155,\n",
       " 0.010510338470339775,\n",
       " -0.031194955110549927,\n",
       " 0.05250915512442589,\n",
       " 0.025610296055674553,\n",
       " -0.0808405876159668,\n",
       " 0.10262380540370941,\n",
       " 0.01100238412618637,\n",
       " 0.009459140710532665,\n",
       " -0.10358379036188126,\n",
       " -0.010714632458984852,\n",
       " 0.00504581443965435,\n",
       " -0.04583654925227165,\n",
       " 0.016576355323195457,\n",
       " 0.04075261950492859,\n",
       " -0.05972056835889816,\n",
       " -0.05948047339916229,\n",
       " 0.005599888972938061,\n",
       " -0.08016203343868256,\n",
       " -0.0002090780617436394,\n",
       " -0.06603796780109406,\n",
       " -0.027349388226866722,\n",
       " -0.08653254806995392,\n",
       " 0.022446224465966225,\n",
       " 0.030211497098207474,\n",
       " 0.0400235652923584,\n",
       " -0.08983886986970901,\n",
       " 0.08596242219209671,\n",
       " -0.009080006740987301,\n",
       " 0.01952449046075344,\n",
       " 0.09982945024967194,\n",
       " 0.025270143523812294,\n",
       " 0.03979887068271637,\n",
       " -0.046149011701345444,\n",
       " 0.031085636466741562,\n",
       " -0.00617302255704999,\n",
       " 0.07452265173196793,\n",
       " 0.040510036051273346,\n",
       " -0.004369613714516163,\n",
       " -0.03617190569639206,\n",
       " 0.010272597894072533,\n",
       " -0.040422119200229645,\n",
       " 0.025674616917967796,\n",
       " -0.00788007490336895,\n",
       " -0.015856433659791946,\n",
       " -0.024127382785081863,\n",
       " -0.03459097072482109,\n",
       " -0.04592454060912132,\n",
       " 0.04619494080543518,\n",
       " -0.02591693215072155,\n",
       " -0.01669655367732048,\n",
       " -0.06779123842716217,\n",
       " 0.014750341884791851,\n",
       " -0.038111791014671326,\n",
       " 0.05665293335914612,\n",
       " -2.4695382252799643e-34,\n",
       " 0.016218628734350204,\n",
       " 0.028818756341934204,\n",
       " 0.04616742953658104,\n",
       " 0.09411010891199112,\n",
       " 0.024194400757551193,\n",
       " -0.0014735201839357615,\n",
       " -0.04537090286612511,\n",
       " -0.020434239879250526,\n",
       " -0.09532087296247482,\n",
       " 0.002894126810133457,\n",
       " -0.06265546381473541,\n",
       " -0.06138278543949127,\n",
       " 0.0214854646474123,\n",
       " 0.06502405554056168,\n",
       " 0.0711159035563469,\n",
       " 0.0075117554515600204,\n",
       " -0.015331113710999489,\n",
       " 0.00012855883687734604,\n",
       " 0.04148052632808685,\n",
       " 0.03823557123541832,\n",
       " -0.04350821301341057,\n",
       " 0.068301260471344,\n",
       " -0.001196002820506692,\n",
       " 0.056628383696079254,\n",
       " -0.027093665674328804,\n",
       " 0.08432440459728241,\n",
       " -0.003772769821807742,\n",
       " -0.041877344250679016,\n",
       " 0.041141778230667114,\n",
       " 0.048950374126434326,\n",
       " 0.09667976945638657,\n",
       " 0.028744012117385864,\n",
       " -0.06661735475063324,\n",
       " -0.019107311964035034,\n",
       " -0.0656532347202301,\n",
       " -0.12304116785526276,\n",
       " -0.08166104555130005,\n",
       " -0.06866048276424408,\n",
       " -0.018029984086751938,\n",
       " -0.020240280777215958,\n",
       " 0.022452911362051964,\n",
       " -0.008634034544229507,\n",
       " -0.04051961004734039,\n",
       " 0.0409504733979702,\n",
       " -0.03248724713921547,\n",
       " -0.0699482336640358,\n",
       " 0.06398411095142365,\n",
       " -0.02503267489373684,\n",
       " 0.0771389976143837,\n",
       " -0.014829335734248161,\n",
       " -0.09503961354494095,\n",
       " 0.0231376551091671,\n",
       " -0.0433562695980072,\n",
       " 0.03821433708071709,\n",
       " 0.06819462776184082,\n",
       " -0.04952619969844818,\n",
       " -0.006420130841434002,\n",
       " -0.0018205455271527171,\n",
       " 0.0004515301261562854,\n",
       " 0.014178808778524399,\n",
       " 0.03936915472149849,\n",
       " 0.07782681286334991,\n",
       " 0.015592491254210472,\n",
       " -0.05940750986337662,\n",
       " -0.038815513253211975,\n",
       " -0.08728469908237457,\n",
       " -0.03973817080259323,\n",
       " 0.010600002482533455,\n",
       " 0.011593175120651722,\n",
       " -0.018913887441158295,\n",
       " 0.04026747867465019,\n",
       " -0.018491845577955246,\n",
       " 0.09644819796085358,\n",
       " -0.02659253589808941,\n",
       " -0.04850547015666962,\n",
       " 0.04195669665932655,\n",
       " 0.04950062185525894,\n",
       " -0.06434931606054306,\n",
       " -0.10639524459838867,\n",
       " -0.04287872835993767,\n",
       " -0.01622423529624939,\n",
       " 0.020913995802402496,\n",
       " 0.06839919090270996,\n",
       " -0.003750082803890109,\n",
       " 0.013939187861979008,\n",
       " 0.027444709092378616,\n",
       " 0.03861876577138901,\n",
       " -0.0507446713745594,\n",
       " -0.004359742626547813,\n",
       " 0.06685210019350052,\n",
       " -0.04303508251905441,\n",
       " -0.07073033601045609,\n",
       " 0.03476089984178543,\n",
       " -0.051987022161483765,\n",
       " -0.07955498993396759,\n",
       " 2.0485292297322002e-33,\n",
       " 0.033141784369945526,\n",
       " 0.007980117574334145,\n",
       " 0.02417130395770073,\n",
       " -0.07040571421384811,\n",
       " -0.04763071611523628,\n",
       " -0.016886096447706223,\n",
       " 0.01425997819751501,\n",
       " -0.0015731259481981397,\n",
       " -0.005426415242254734,\n",
       " 0.008970999158918858,\n",
       " -0.001882022013887763,\n",
       " -0.003546741558238864,\n",
       " 0.05969978868961334,\n",
       " -0.0337158627808094,\n",
       " -0.0626738965511322,\n",
       " 0.02484339103102684,\n",
       " 0.06135789304971695,\n",
       " 0.023530252277851105,\n",
       " -0.05302191898226738,\n",
       " 0.0005782415391877294,\n",
       " 0.0004942075465805829,\n",
       " 0.019407648593187332,\n",
       " 0.01713131181895733,\n",
       " -0.016700375825166702,\n",
       " -0.09267529845237732,\n",
       " 0.09990733861923218,\n",
       " 0.090367391705513,\n",
       " -0.028911972418427467,\n",
       " -0.03756232559680939,\n",
       " 0.038857828825712204,\n",
       " -0.026771292090415955,\n",
       " 0.021007075905799866,\n",
       " 0.026097118854522705,\n",
       " 0.08283208310604095,\n",
       " 0.004857789259403944,\n",
       " 0.053209349513053894,\n",
       " 0.10740628838539124,\n",
       " 0.019850166514515877,\n",
       " -0.0741482526063919,\n",
       " -0.04773235321044922,\n",
       " -0.04785141721367836,\n",
       " 0.04527762159705162,\n",
       " -0.061315372586250305,\n",
       " 0.04475755617022514,\n",
       " -0.039159130305051804,\n",
       " -0.0033756361808627844,\n",
       " -0.08531556278467178,\n",
       " -0.02046789415180683,\n",
       " 0.04830557852983475,\n",
       " 0.04075445234775543,\n",
       " -0.02513459511101246,\n",
       " 0.02837294526398182,\n",
       " 0.03953846916556358,\n",
       " -0.0041918340139091015,\n",
       " 0.027456797659397125,\n",
       " -0.06865599751472473,\n",
       " -0.009805622510612011,\n",
       " -0.050346676260232925,\n",
       " -0.049648575484752655,\n",
       " 0.0028605046682059765,\n",
       " -0.03758107125759125,\n",
       " 0.06657373160123825,\n",
       " 0.07560082525014877,\n",
       " 0.10025371611118317,\n",
       " 0.09632048010826111,\n",
       " 0.06767937541007996,\n",
       " -0.03964514285326004,\n",
       " 0.07401780784130096,\n",
       " -0.055914998054504395,\n",
       " -0.04685528576374054,\n",
       " 0.00940723530948162,\n",
       " 0.03865130990743637,\n",
       " -0.09053590148687363,\n",
       " 0.06983482837677002,\n",
       " -0.027506468817591667,\n",
       " 0.037398021668195724,\n",
       " -0.031066948547959328,\n",
       " -0.01556281466037035,\n",
       " -0.006835119798779488,\n",
       " 0.055924806743860245,\n",
       " -0.10358693450689316,\n",
       " 0.043308477848768234,\n",
       " -0.0514732226729393,\n",
       " 0.0914478674530983,\n",
       " -0.016455354169011116,\n",
       " -0.02461702935397625,\n",
       " 0.01621944271028042,\n",
       " 0.03489254042506218,\n",
       " 0.0065368777140975,\n",
       " -0.02381020039319992,\n",
       " 0.0024446952156722546,\n",
       " 0.0007049025152809918,\n",
       " 0.07284285128116608,\n",
       " 0.01846274547278881,\n",
       " 0.03439640253782272,\n",
       " -1.6137201797050693e-08,\n",
       " -0.03926120325922966,\n",
       " 0.06084923818707466,\n",
       " 0.08105494827032089,\n",
       " 0.011955678462982178,\n",
       " 0.07906591147184372,\n",
       " 0.002074918942525983,\n",
       " -0.1234617754817009,\n",
       " -0.057438723742961884,\n",
       " -0.05151752382516861,\n",
       " 0.009386458434164524,\n",
       " -0.035010118037462234,\n",
       " 0.07279226183891296,\n",
       " 0.0031402427703142166,\n",
       " 0.01790442503988743,\n",
       " 0.08937050402164459,\n",
       " 0.05531550571322441,\n",
       " -0.01597055234014988,\n",
       " -0.01541838701814413,\n",
       " -0.05718653276562691,\n",
       " -0.07060743123292923,\n",
       " -0.04715341702103615,\n",
       " 0.031175103038549423,\n",
       " -0.06708682328462601,\n",
       " -0.006315684411674738,\n",
       " 0.04743761569261551,\n",
       " -0.03320639953017235,\n",
       " 0.023673534393310547,\n",
       " 0.05796298757195473,\n",
       " 0.0735665038228035,\n",
       " 0.03164086863398552,\n",
       " 0.026459503918886185,\n",
       " 0.005953910294920206,\n",
       " -0.08667550981044769,\n",
       " 0.033800918608903885,\n",
       " 0.037575382739305496,\n",
       " -0.0038829718250781298,\n",
       " -0.047570325434207916,\n",
       " 0.15074066817760468,\n",
       " -0.06589572131633759,\n",
       " 0.07984073460102081,\n",
       " -0.007944410666823387,\n",
       " -0.08337514102458954,\n",
       " 0.035541146993637085,\n",
       " 0.0013727780897170305,\n",
       " -0.02630789764225483,\n",
       " 0.02731248363852501,\n",
       " -0.011402553878724575,\n",
       " 0.011396101675927639,\n",
       " 0.013561854138970375,\n",
       " -0.08424728363752365,\n",
       " -0.04756271466612816,\n",
       " -0.0024830326437950134,\n",
       " 0.05264260992407799,\n",
       " 0.02054397575557232,\n",
       " 0.03859308362007141,\n",
       " -0.00897817313671112,\n",
       " 0.07984251528978348,\n",
       " -0.0365898571908474,\n",
       " -0.002240487840026617,\n",
       " 0.12174385040998459,\n",
       " 0.04024892672896385,\n",
       " -0.03654985874891281,\n",
       " -0.0046656327322125435,\n",
       " -0.012064183130860329]"
      ]
     },
     "execution_count": 16,
     "metadata": {},
     "output_type": "execute_result"
    }
   ],
   "source": [
    "test_result = embedding.embed_query(\"Bo0om!\")\n",
    "test_result"
   ]
  },
  {
   "cell_type": "markdown",
   "metadata": {},
   "source": [
    "**Yaaaay!** It is apprently working alright... then let's continue.\n",
    "In fact the query is transformed into a vector as an embedding!"
   ]
  },
  {
   "cell_type": "code",
   "execution_count": 17,
   "metadata": {},
   "outputs": [
    {
     "name": "stdout",
     "output_type": "stream",
     "text": [
      "Index already contains 3006 vectors. Skipping upload.\n",
      "Existing vectorstore is now loaded.\n"
     ]
    }
   ],
   "source": [
    "# Create a VectorScore from the text chunks already generated\n",
    "# through which you can add more records to Pincone index\n",
    "\n",
    "from langchain_pinecone import PineconeVectorStore\n",
    "\n",
    "# Check if the index already hosts data\n",
    "# therefore you won't have to upload it from scratch\n",
    "# index = pinecone.Index(mcbot_idx_name)\n",
    "index_stats = index.describe_index_stats()\n",
    "existing_vector_count = index_stats[\"total_vector_count\"]\n",
    "\n",
    "if existing_vector_count == 0:\n",
    "    print(\"Index is empty. Uploading new documents...\")\n",
    "    \n",
    "    vectorstore_from_chunks = PineconeVectorStore.from_documents(\n",
    "    text_chunks,\n",
    "    index_name=mcbot_idx_name,\n",
    "    embedding=embedding\n",
    "    )\n",
    "    \n",
    "    print(\"Upload complete.\")\n",
    "else:\n",
    "    print(f\"Index already contains {existing_vector_count} vectors. Skipping upload.\")\n",
    "    # load the existing vector store whether or not new data was added\n",
    "    vectorstore_from_chunks = PineconeVectorStore(index_name=mcbot_idx_name, embedding=embedding)\n",
    "    print(f\"Existing vectorstore is now loaded.\")"
   ]
  },
  {
   "cell_type": "code",
   "execution_count": 18,
   "metadata": {},
   "outputs": [
    {
     "name": "stdout",
     "output_type": "stream",
     "text": [
      "<langchain_pinecone.vectorstores.PineconeVectorStore object at 0x00000208956BD5B0>\n"
     ]
    },
    {
     "data": {
      "text/plain": [
       "langchain_pinecone.vectorstores.PineconeVectorStore"
      ]
     },
     "execution_count": 18,
     "metadata": {},
     "output_type": "execute_result"
    }
   ],
   "source": [
    "print(vectorstore_from_chunks)\n",
    "type(vectorstore_from_chunks)"
   ]
  },
  {
   "cell_type": "code",
   "execution_count": 32,
   "metadata": {},
   "outputs": [
    {
     "data": {
      "text/plain": [
       "[Document(metadata={'page': 14.0, 'source': 'data\\\\THE_GALE_ENCYCLOPEDIA_of_MEDICINE_SECOND_EDITION.pdf'}, page_content='Abdominal aorta ultrasound see Abdominal\\nultrasound\\nAbdominal aortic aneurysm see Aortic\\naneurysm\\nAbdominal hernia see Hernia\\nAbdominal thrust see Heimlich maneuver\\nAbdominal ultrasound\\nDefinition\\nUltrasound technology allows doctors to “see”\\ninside a patient without resorting to surgery. A transmit-\\nter sends high frequency sound waves into the body,\\nwhere they bounce off the different tissues and organs to\\nproduce a distinctive pattern of echoes. A receiver\\n“hears” the returning echo pattern and forwards it to a\\ncomputer, which translates the data into an image on a\\ntelevision screen. Because ultrasound can distinguish\\nsubtle variations between soft, fluid-filled tissues, it is\\nparticularly useful in providing diagnostic images of the\\nabdomen. Ultrasound can also be used in treatment.\\nPurpose\\nThe potential medical applications of ultrasound\\nwere first recognized in the 1940s as an outgrowth of the\\nsonar technology developed to detect submarines during'),\n",
       " Document(metadata={'page': 17.0, 'source': 'data\\\\THE_GALE_ENCYCLOPEDIA_of_MEDICINE_SECOND_EDITION.pdf'}, page_content='and sends them to the analyzer—a computer that orga-\\nnizes the data into an image on a television screen.\\nBecause sound waves travel through all the body’s\\ntissues at nearly the same speed—about 3,400 miles per\\nhour—the microseconds it takes for each echo to be\\nreceived can be plotted on the screen as a distance into the\\nbody. The relative strength of each echo, a function of the\\nspecific tissue or organ boundary that produced it, can be\\nplotted as a point of varying brightness. In this way, the\\nechoes are translated into a picture. Tissues surrounded\\nby bone or filled with gas (the stomach, intestines and\\nbowel) cannot be imaged using ultrasound, because the\\nwaves are blocked or become randomly scattered.\\nFour different modes of ultrasound are used in med-\\nical imaging:\\n• A-mode. This is the simplest type of ultrasound in\\nwhich a single transducer scans a line through the body\\nwith the echoes plotted on screen as a function of\\ndepth. This method is used to measure distances within'),\n",
       " Document(metadata={'page': 606.0, 'source': 'data\\\\THE_GALE_ENCYCLOPEDIA_of_MEDICINE_SECOND_EDITION.pdf'}, page_content='and puts on a hospital gown, open in the front. She lies\\non her back or side on an examining table. A gel that\\nenhances sound transmission is spread over the area to be\\nexamined. The technologist then places a transducer, an\\ninstrument about the size of an electric shaver, against\\nthe skin. The images from reflected sound waves appear\\non a monitor screen.\\nA good ultrasound study is difficult to obtain if the\\npatient is unable to remain quietly in one position. Obe-\\nsity may hinder clear viewing of internal structures, and\\nthe accuracy of an ultrasound study is highly dependent\\non the skill of the person performing the examination.\\nThe images recorded vary with the angle and pressure of\\nthe transducer and the equipment settings. The examina-\\ntion may take from 30 to 45 minutes. Most insurance\\nplans cover the cost of an ultrasound examination.\\nNormal results\\nAn ultrasound examination may reveal either normal\\ntissue or a benign condition such as a cyst. Ultrasound'),\n",
       " Document(metadata={'page': 17.0, 'source': 'data\\\\THE_GALE_ENCYCLOPEDIA_of_MEDICINE_SECOND_EDITION.pdf'}, page_content='the body and the size of internal organs. Therapeutic\\nultrasound aimed at a specific tumor or calculus is also\\nA-mode, to allow for pinpoint accurate focus of the\\ndestructive wave energy.\\n• B-mode. In B-mode ultrasound, a linear array of trans-\\nducers simultaneously scans a plane through the body\\nthat can be viewed as a two-dimensional image on\\nscreen. Ultrasound probes containing more than 100\\ntransducers in sequence form the basis for these most\\ncommonly used scanners, which cost about $50,000.\\n• M-Mode. The M stands for motion. A rapid sequence\\nof B-mode scans whose images follow each other in\\nsequence on screen enables doctors to see and mea-\\nsure range of motion, as the organ boundaries that\\nproduce reflections move relative to the probe. M-\\nmode ultrasound has been put to particular use in\\nstudying heart motion.\\n• Doppler mode. Doppler ultrasonography includes the\\ncapability of accurately measuring velocities of moving\\nmaterial, such as blood in arteries and veins. The prin-')]"
      ]
     },
     "execution_count": 32,
     "metadata": {},
     "output_type": "execute_result"
    }
   ],
   "source": [
    "# perform a similarity search\n",
    "query = \"How do you define Ultrasound Technology?\"\n",
    "docs = vectorstore_from_chunks.similarity_search(query)\n",
    "docs"
   ]
  },
  {
   "cell_type": "markdown",
   "metadata": {},
   "source": [
    "`docs` retrieved above through `similarity_search()` is actually our knowledge base."
   ]
  },
  {
   "cell_type": "code",
   "execution_count": 33,
   "metadata": {},
   "outputs": [
    {
     "data": {
      "text/plain": [
       "'Abdominal aorta ultrasound see Abdominal\\nultrasound\\nAbdominal aortic aneurysm see Aortic\\naneurysm\\nAbdominal hernia see Hernia\\nAbdominal thrust see Heimlich maneuver\\nAbdominal ultrasound\\nDefinition\\nUltrasound technology allows doctors to “see”\\ninside a patient without resorting to surgery. A transmit-\\nter sends high frequency sound waves into the body,\\nwhere they bounce off the different tissues and organs to\\nproduce a distinctive pattern of echoes. A receiver\\n“hears” the returning echo pattern and forwards it to a\\ncomputer, which translates the data into an image on a\\ntelevision screen. Because ultrasound can distinguish\\nsubtle variations between soft, fluid-filled tissues, it is\\nparticularly useful in providing diagnostic images of the\\nabdomen. Ultrasound can also be used in treatment.\\nPurpose\\nThe potential medical applications of ultrasound\\nwere first recognized in the 1940s as an outgrowth of the\\nsonar technology developed to detect submarines during'"
      ]
     },
     "execution_count": 33,
     "metadata": {},
     "output_type": "execute_result"
    }
   ],
   "source": [
    "# retrive the page content of the document ranked first as the most related\n",
    "docs[0].page_content"
   ]
  },
  {
   "cell_type": "markdown",
   "metadata": {},
   "source": [
    "At this point, it could be a good practice to have LLMs involved in order to produce a more sophisticated response."
   ]
  },
  {
   "cell_type": "code",
   "execution_count": 34,
   "metadata": {},
   "outputs": [],
   "source": [
    "# create a prompt template\n",
    "prompt_template = \"\"\"\n",
    "Answer the question below given the context. Please don't try to make up one if you don't know the answer.\n",
    "\n",
    "Question: {question}\n",
    "Context: {context}\n",
    "\n",
    "I only need a genuine and reliable answer. Thank you.\n",
    "\"\"\""
   ]
  },
  {
   "cell_type": "code",
   "execution_count": 35,
   "metadata": {},
   "outputs": [],
   "source": [
    "\n",
    "medical_prompt = PromptTemplate(template=prompt_template,\n",
    "                                         input_variables=[\"question\", \"context\"])"
   ]
  },
  {
   "cell_type": "code",
   "execution_count": 36,
   "metadata": {},
   "outputs": [],
   "source": [
    "chain_type_kwargs={\"prompt\": medical_prompt}"
   ]
  },
  {
   "cell_type": "code",
   "execution_count": 37,
   "metadata": {},
   "outputs": [],
   "source": [
    "llm = CTransformers(model=\"model/llama-2-7b-chat.ggmlv3.q4_0.bin\",\n",
    "                    model_type=\"llama\",\n",
    "                    config={\"max_new_tokens\": 512,\n",
    "                            \"temperature\": 0.8})"
   ]
  },
  {
   "cell_type": "code",
   "execution_count": 38,
   "metadata": {},
   "outputs": [
    {
     "name": "stdout",
     "output_type": "stream",
     "text": [
      "<class 'langchain_core.vectorstores.base.VectorStoreRetriever'>\n"
     ]
    }
   ],
   "source": [
    "retriever = vectorstore_from_chunks.as_retriever(search_kwargs={\"k\": 2})\n",
    "print(type(retriever))  # Should print a valid retriever type"
   ]
  },
  {
   "cell_type": "markdown",
   "metadata": {},
   "source": [
    "**NOTE!** Before running the code block below, make sure that `langchain-community` is installed and up-to-date."
   ]
  },
  {
   "cell_type": "code",
   "execution_count": 39,
   "metadata": {},
   "outputs": [],
   "source": [
    "# QA pipeline\n",
    "qa = RetrievalQA.from_chain_type(\n",
    "                llm=llm,\n",
    "                chain_type=\"stuff\",\n",
    "                retriever=retriever,\n",
    "                return_source_documents=True,\n",
    "                chain_type_kwargs=chain_type_kwargs)"
   ]
  },
  {
   "cell_type": "code",
   "execution_count": 40,
   "metadata": {},
   "outputs": [],
   "source": [
    "# let us test the QA pipeline\n",
    "result = qa.invoke(query)"
   ]
  },
  {
   "cell_type": "code",
   "execution_count": 42,
   "metadata": {},
   "outputs": [],
   "source": [
    "# print(result[\"result\"])"
   ]
  },
  {
   "cell_type": "code",
   "execution_count": null,
   "metadata": {},
   "outputs": [],
   "source": []
  }
 ],
 "metadata": {
  "kernelspec": {
   "display_name": "medchatbot",
   "language": "python",
   "name": "python3"
  },
  "language_info": {
   "codemirror_mode": {
    "name": "ipython",
    "version": 3
   },
   "file_extension": ".py",
   "mimetype": "text/x-python",
   "name": "python",
   "nbconvert_exporter": "python",
   "pygments_lexer": "ipython3",
   "version": "3.8.20"
  }
 },
 "nbformat": 4,
 "nbformat_minor": 2
}
